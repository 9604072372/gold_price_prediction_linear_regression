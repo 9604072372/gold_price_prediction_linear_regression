{
 "cells": [
  {
   "cell_type": "code",
   "execution_count": 1,
   "metadata": {},
   "outputs": [],
   "source": [
    "import numpy as np\n",
    "import pandas as pd\n",
    "from flask import Flask,render_template,request\n",
    "import pickle\n",
    "import datetime"
   ]
  },
  {
   "cell_type": "code",
   "execution_count": 2,
   "metadata": {},
   "outputs": [],
   "source": [
    "app=Flask(__name__,template_folder='templates')\n",
    "mod=pickle.load(open('linear_pkl.pkl','rb'))"
   ]
  },
  {
   "cell_type": "code",
   "execution_count": 3,
   "metadata": {},
   "outputs": [],
   "source": [
    "@app.route('/')\n",
    "@app.route('/index')\n",
    "def Index():\n",
    "    return render_template('index.html')"
   ]
  },
  {
   "cell_type": "code",
   "execution_count": 4,
   "metadata": {},
   "outputs": [],
   "source": [
    "@app.route('/result',methods=['GET','POST'])\n",
    "\n",
    "def result():\n",
    "    if request.method=='POST':\n",
    "        year= int(request.form['year'])\n",
    "        month= int(request.form['month'])\n",
    "        day= int(request.form['day'])\n",
    "        k=datetime.date(year,month,day)\n",
    "        k=k.toordinal()\n",
    "        predict=mod.predict([[k]])\n",
    "        return render_template('index.html',prediction=predict)"
   ]
  },
  {
   "cell_type": "code",
   "execution_count": null,
   "metadata": {
    "scrolled": true
   },
   "outputs": [
    {
     "name": "stdout",
     "output_type": "stream",
     "text": [
      " * Serving Flask app \"__main__\" (lazy loading)\n",
      " * Environment: production\n",
      "   WARNING: Do not use the development server in a production environment.\n",
      "   Use a production WSGI server instead.\n",
      " * Debug mode: on\n"
     ]
    },
    {
     "name": "stderr",
     "output_type": "stream",
     "text": [
      " * Running on http://127.0.0.1:5000/ (Press CTRL+C to quit)\n",
      "127.0.0.1 - - [17/Sep/2021 09:29:32] \"\u001b[37mGET / HTTP/1.1\u001b[0m\" 200 -\n",
      "127.0.0.1 - - [17/Sep/2021 09:29:59] \"\u001b[37mPOST /result HTTP/1.1\u001b[0m\" 200 -\n",
      "127.0.0.1 - - [17/Sep/2021 09:31:01] \"\u001b[37mPOST /result HTTP/1.1\u001b[0m\" 200 -\n",
      "127.0.0.1 - - [17/Sep/2021 09:31:12] \"\u001b[37mPOST /result HTTP/1.1\u001b[0m\" 200 -\n",
      "127.0.0.1 - - [17/Sep/2021 09:31:49] \"\u001b[37mPOST /result HTTP/1.1\u001b[0m\" 200 -\n",
      "127.0.0.1 - - [17/Sep/2021 09:32:09] \"\u001b[37mPOST /result HTTP/1.1\u001b[0m\" 200 -\n"
     ]
    }
   ],
   "source": [
    "if __name__=='__main__':\n",
    "    app.run(debug=True,use_reloader=False)"
   ]
  },
  {
   "cell_type": "code",
   "execution_count": null,
   "metadata": {},
   "outputs": [],
   "source": []
  }
 ],
 "metadata": {
  "kernelspec": {
   "display_name": "Python 3 (ipykernel)",
   "language": "python",
   "name": "python3"
  },
  "language_info": {
   "codemirror_mode": {
    "name": "ipython",
    "version": 3
   },
   "file_extension": ".py",
   "mimetype": "text/x-python",
   "name": "python",
   "nbconvert_exporter": "python",
   "pygments_lexer": "ipython3",
   "version": "3.7.3"
  }
 },
 "nbformat": 4,
 "nbformat_minor": 2
}
